{
  "cells": [
    {
      "cell_type": "code",
      "execution_count": null,
      "metadata": {
        "colab": {
          "base_uri": "https://localhost:8080/"
        },
        "id": "8KK8hGq9klaE",
        "outputId": "9cbbeb5a-2e2c-4297-c089-3c72231ee01a"
      },
      "outputs": [
        {
          "output_type": "stream",
          "name": "stdout",
          "text": [
            "Looking in indexes: https://pypi.org/simple, https://us-python.pkg.dev/colab-wheels/public/simple/\n",
            "Requirement already satisfied: hessquik in /usr/local/lib/python3.8/dist-packages (0.0.2)\n",
            "Requirement already satisfied: torch in /usr/local/lib/python3.8/dist-packages (from hessquik) (1.13.0+cu116)\n",
            "Requirement already satisfied: typing-extensions in /usr/local/lib/python3.8/dist-packages (from torch->hessquik) (4.4.0)\n"
          ]
        }
      ],
      "source": [
        "import torch, time, copy\n",
        "import torch.nn as nn\n",
        "import numpy as np\n",
        "import matplotlib.pyplot as plt\n",
        "from matplotlib import cm\n",
        "from scipy.integrate import solve_ivp\n",
        "!pip install tikzplotlib #uncomment for saving nice images\n",
        "import tikzplotlib\n",
        "from pylab import *\n",
        "# set precision\n",
        "torch.set_default_dtype(torch.float64)\n",
        "\n",
        "!pip install hessquik\n",
        "import hessQuik.activations as act\n",
        "import hessQuik.layers as lay\n",
        "import hessQuik.networks as net\n",
        "from hessQuik.utils import  test\n"
      ]
    },
    {
      "cell_type": "markdown",
      "metadata": {
        "id": "s-0wSeLPA4I0"
      },
      "source": [
        "Create training, validation, and testing sets"
      ]
    },
    {
      "cell_type": "code",
      "execution_count": null,
      "metadata": {
        "id": "nwd0lLsfSTJC"
      },
      "outputs": [],
      "source": []
    },
    {
      "cell_type": "code",
      "execution_count": null,
      "metadata": {
        "id": "c_RQ2Z9yBi_z",
        "colab": {
          "base_uri": "https://localhost:8080/"
        },
        "outputId": "d2690cf4-0d3e-4c68-93a8-54a93bea8c4c"
      },
      "outputs": [
        {
          "output_type": "stream",
          "name": "stdout",
          "text": [
            "[0.         0.00750186 0.01500361 ... 1.30513066 1.29943373 1.29371898]\n",
            "x_train shape torch.Size([1900, 3])\n",
            "x_val shape torch.Size([50, 3])\n",
            "x_test shape torch.Size([50, 3])\n"
          ]
        },
        {
          "output_type": "execute_result",
          "data": {
            "text/plain": [
              "(2000, 3)"
            ]
          },
          "metadata": {},
          "execution_count": 6
        }
      ],
      "source": [
        "'''\n",
        "Create training, validation, and testing sets\n",
        "  - Loading the dataset, formatting our data, and determining step size\n",
        "\n",
        "'''\n",
        "\n",
        "total_ex = 2000\n",
        "n_train = 1900      # number of training points\n",
        "n_val = 50         # number of validation points\n",
        "n_test = 50        # number of testing points\n",
        "\n",
        "#import data and assign each array to a different value\n",
        "from pathlib import Path\n",
        "odeDataPath = Path('sho_data.npz') #path to file\n",
        "odeData = np.load(odeDataPath)\n",
        "\n",
        "\n",
        "#these are the tensors of our data\n",
        "print(odeData['y'])\n",
        "yData = np.reshape(odeData['y'],[-1,1]) #reshape the data so its [datapoints x 1] tensor\n",
        "zData = np.reshape(odeData['z'],[-1,1])\n",
        "tData = np.reshape(odeData['t'],[-1,1])\n",
        "\n",
        "# assign data to x and y\n",
        "x = np.concatenate([tData[:total_ex],yData[:total_ex],zData[:total_ex]],axis=1) #combine the t, y and z data \n",
        "xall = torch.tensor(x)\n",
        "y = np.concatenate([yData[:total_ex],zData[:total_ex]],axis=1) #combine the t, y and z data \n",
        "yall = torch.tensor(y)\n",
        "\n",
        "# shuffle and split data\n",
        "n_samples = n_train\n",
        "idx = torch.randperm(n_train + n_val + n_test)\n",
        "x_train, y_train = xall[idx[:n_train]], yall[idx[:n_train]]\n",
        "x_val, y_val = xall[idx[n_train:n_train + n_val]], yall[idx[n_train:n_train + n_val]]\n",
        "x_test, y_test = xall[idx[n_train + n_val:]], yall[idx[n_train + n_val:]]\n",
        "\n",
        "x.shape"
      ]
    },
    {
      "cell_type": "markdown",
      "metadata": {
        "id": "oetXCUt1A4SB"
      },
      "source": [
        "Network Architecture"
      ]
    },
    {
      "cell_type": "code",
      "execution_count": null,
      "metadata": {
        "id": "DnOUZwd4BkN3"
      },
      "outputs": [],
      "source": [
        "'''\n",
        "Create our Network:\n",
        "  - our width and depth, as well as the function we use to create our ResNet\n",
        "\n",
        "'''\n",
        "\n",
        "width = 10\n",
        "depth = 2\n",
        "f = net.NN(lay.singleLayer(3, width, act=act.tanhActivation()),\n",
        "           net.resnetNN(width, depth, h=1, act=act.tanhActivation()),\n",
        "           lay.singleLayer(width, 1, act=act.identityActivation()))\n",
        "\n",
        "# Pytorch optimizer for the network weights:\n",
        "optimizer = torch.optim.Adam(f.parameters(), lr=1e-3) \n",
        "#weight decay is for regularization, add weight_decay=1e-5 \n"
      ]
    },
    {
      "cell_type": "markdown",
      "metadata": {
        "id": "MzEBto0HBMAp"
      },
      "source": [
        "Loss"
      ]
    },
    {
      "cell_type": "code",
      "execution_count": null,
      "metadata": {
        "id": "UQryPPcIBkyQ"
      },
      "outputs": [],
      "source": [
        "#Our Mean Squared Error Loss Function\n",
        "def mse_loss(y: torch.Tensor,y_true: torch.Tensor):\n",
        "  return (0.5 / y.shape[0]) * torch.norm(y_true - y[:,1:3].view_as(y_true)) ** 2\n"
      ]
    },
    {
      "cell_type": "code",
      "execution_count": null,
      "metadata": {
        "id": "6fteMIBGNpsV"
      },
      "outputs": [],
      "source": [
        "#A function for printing the various headers necessary for seeing our network running\n",
        "def print_headers( verbose: bool = True):\n",
        "    \"\"\"\n",
        "    Print headers for nice training\n",
        "    \"\"\"\n",
        "    loss_printouts = ('loss',)\n",
        "    n_loss = len(loss_printouts)\n",
        "\n",
        "    headers = (('', '', '|', 'running',) + (n_loss - 1) * ('',) + ('|', 'train',)\n",
        "               + (n_loss - 1) * ('',) + ('|', 'valid',) + (n_loss - 1) * ('',))\n",
        "\n",
        "    printouts = ('epoch', 'time') + 3 * (('|',) + loss_printouts)\n",
        "    printouts_frmt = '{:<15d}{:<15.4f}' + 3 * ('{:<2s}' + n_loss * '{:<15.4e}')\n",
        "\n",
        "    if verbose:\n",
        "        print(('{:<15s}{:<15s}' + 3 * ('{:<2s}' + n_loss * '{:<15s}')).format(*headers))\n",
        "        print(('{:<15s}{:<15s}' + 3 * ('{:<2s}' + n_loss * '{:<15s}')).format(*printouts))\n",
        "\n",
        "    return headers, printouts, printouts_frmt"
      ]
    },
    {
      "cell_type": "markdown",
      "metadata": {
        "id": "ZrPY6JX_Od54"
      },
      "source": [
        "Training"
      ]
    },
    {
      "cell_type": "code",
      "execution_count": null,
      "metadata": {
        "id": "H7W4s-1DvzAa"
      },
      "outputs": [],
      "source": [
        "#changed the loss function to concatenetae the t data with ixdb values so that it can incorparte the different time steps "
      ]
    },
    {
      "cell_type": "code",
      "execution_count": null,
      "metadata": {
        "id": "jp7EQ3-FBlfg",
        "colab": {
          "base_uri": "https://localhost:8080/",
          "height": 1000
        },
        "outputId": "02be9202-074a-4cbf-fe06-68d8c0a54ca6"
      },
      "outputs": [
        {
          "output_type": "stream",
          "name": "stdout",
          "text": [
            "                              | running        | train          | valid          \n",
            "epoch          time           | loss           | loss           | loss           \n",
            "0              0.1425         | 4.0204e+00     | 4.9020e+00     | 4.6969e+00     \n",
            "5              0.0399         | 3.0440e+00     | 3.8838e+00     | 3.5545e+00     \n",
            "10             0.0159         | 2.8133e+00     | 3.4799e+00     | 3.0822e+00     \n",
            "15             0.0164         | 2.5306e+00     | 3.3252e+00     | 2.8886e+00     \n",
            "20             0.0465         | 2.5299e+00     | 3.2499e+00     | 2.8068e+00     \n",
            "25             0.0310         | 2.4712e+00     | 3.1915e+00     | 2.7520e+00     \n",
            "30             0.0187         | 2.4801e+00     | 3.1450e+00     | 2.7194e+00     \n",
            "35             0.0245         | 2.3620e+00     | 3.1072e+00     | 2.7105e+00     \n",
            "40             0.0168         | 2.3620e+00     | 3.0785e+00     | 2.7163e+00     \n",
            "45             0.0161         | 2.4158e+00     | 3.0559e+00     | 2.7333e+00     \n",
            "50             0.0257         | 2.2920e+00     | 3.0387e+00     | 2.7464e+00     \n",
            "55             0.0241         | 2.2905e+00     | 3.0264e+00     | 2.7390e+00     \n",
            "60             0.0292         | 2.3066e+00     | 3.0160e+00     | 2.7440e+00     \n",
            "65             0.0471         | 2.3035e+00     | 3.0050e+00     | 2.7412e+00     \n",
            "70             0.0270         | 2.2193e+00     | 3.0004e+00     | 2.7369e+00     \n",
            "75             0.0560         | 2.4097e+00     | 2.9955e+00     | 2.7424e+00     \n",
            "80             0.0254         | 2.2685e+00     | 2.9914e+00     | 2.7396e+00     \n",
            "85             0.0255         | 2.3064e+00     | 2.9916e+00     | 2.7506e+00     \n",
            "90             0.0298         | 2.3403e+00     | 2.9835e+00     | 2.7468e+00     \n",
            "95             0.0330         | 2.2874e+00     | 2.9821e+00     | 2.7333e+00     \n",
            "100            0.0291         | 2.3293e+00     | 2.9801e+00     | 2.7414e+00     \n",
            "105            0.0566         | 2.3841e+00     | 2.9787e+00     | 2.7274e+00     \n",
            "110            0.0390         | 2.3759e+00     | 2.9762e+00     | 2.7175e+00     \n",
            "115            0.0316         | 2.2397e+00     | 2.9789e+00     | 2.7111e+00     \n",
            "120            0.0275         | 2.2603e+00     | 2.9797e+00     | 2.7104e+00     \n",
            "125            0.0356         | 2.3249e+00     | 2.9767e+00     | 2.7166e+00     \n",
            "130            0.0615         | 2.3112e+00     | 2.9755e+00     | 2.7139e+00     \n",
            "135            0.0253         | 2.3062e+00     | 2.9739e+00     | 2.7314e+00     \n",
            "140            0.0493         | 2.3088e+00     | 2.9723e+00     | 2.7222e+00     \n",
            "145            0.0388         | 2.3177e+00     | 2.9711e+00     | 2.7150e+00     \n",
            "150            0.0301         | 2.3813e+00     | 2.9709e+00     | 2.7157e+00     \n",
            "155            0.0257         | 2.3649e+00     | 2.9710e+00     | 2.7178e+00     \n",
            "160            0.0310         | 2.2997e+00     | 2.9683e+00     | 2.7299e+00     \n",
            "165            0.0579         | 2.2611e+00     | 2.9714e+00     | 2.7136e+00     \n",
            "170            0.0290         | 2.3064e+00     | 2.9723e+00     | 2.6949e+00     \n",
            "175            0.0257         | 2.2952e+00     | 2.9710e+00     | 2.7098e+00     \n",
            "180            0.0385         | 2.3500e+00     | 2.9683e+00     | 2.7082e+00     \n",
            "185            0.0263         | 2.2706e+00     | 2.9672e+00     | 2.7069e+00     \n",
            "190            0.0283         | 2.2558e+00     | 2.9667e+00     | 2.7010e+00     \n",
            "195            0.0260         | 2.2465e+00     | 2.9698e+00     | 2.6895e+00     \n",
            "200            0.0266         | 2.3701e+00     | 2.9731e+00     | 2.7003e+00     \n",
            "205            0.0257         | 2.2626e+00     | 2.9700e+00     | 2.7083e+00     \n",
            "210            0.0562         | 2.3041e+00     | 2.9683e+00     | 2.6932e+00     \n",
            "215            0.0355         | 2.3439e+00     | 2.9655e+00     | 2.7114e+00     \n",
            "220            0.0261         | 2.2988e+00     | 2.9654e+00     | 2.6871e+00     \n",
            "225            0.0327         | 2.2345e+00     | 2.9647e+00     | 2.6776e+00     \n",
            "230            0.0241         | 2.3057e+00     | 2.9661e+00     | 2.7037e+00     \n",
            "235            0.0348         | 2.2491e+00     | 2.9654e+00     | 2.6905e+00     \n",
            "240            0.0386         | 2.3401e+00     | 2.9716e+00     | 2.6789e+00     \n",
            "245            0.0381         | 2.2599e+00     | 2.9669e+00     | 2.7011e+00     \n",
            "250            0.1065         | 2.3425e+00     | 2.9644e+00     | 2.6797e+00     \n",
            "255            0.0329         | 2.3301e+00     | 2.9631e+00     | 2.6832e+00     \n",
            "260            0.0516         | 2.3206e+00     | 2.9670e+00     | 2.6787e+00     \n",
            "265            0.0377         | 2.2874e+00     | 2.9651e+00     | 2.6914e+00     \n",
            "270            0.0252         | 2.2649e+00     | 2.9661e+00     | 2.6885e+00     \n",
            "275            0.0499         | 2.3254e+00     | 2.9638e+00     | 2.6857e+00     \n",
            "280            0.0411         | 2.2298e+00     | 2.9613e+00     | 2.6827e+00     \n",
            "285            0.0303         | 2.2939e+00     | 2.9602e+00     | 2.6558e+00     \n",
            "290            0.0428         | 2.2303e+00     | 2.9630e+00     | 2.6611e+00     \n",
            "295            0.0322         | 2.2214e+00     | 2.9650e+00     | 2.6598e+00     \n",
            "300            0.0518         | 2.2917e+00     | 2.9629e+00     | 2.6737e+00     \n",
            "305            0.0591         | 2.2908e+00     | 2.9645e+00     | 2.6433e+00     \n",
            "310            0.0619         | 2.3360e+00     | 2.9645e+00     | 2.6573e+00     \n",
            "315            0.0826         | 2.2997e+00     | 2.9673e+00     | 2.6669e+00     \n",
            "320            0.0254         | 2.2643e+00     | 2.9625e+00     | 2.6605e+00     \n",
            "325            0.0341         | 2.2017e+00     | 2.9648e+00     | 2.6656e+00     \n",
            "330            0.0265         | 2.2682e+00     | 2.9621e+00     | 2.6421e+00     \n",
            "335            0.0405         | 2.2680e+00     | 2.9586e+00     | 2.6469e+00     \n",
            "340            0.0258         | 2.2829e+00     | 2.9614e+00     | 2.6462e+00     \n",
            "345            0.0285         | 2.2360e+00     | 2.9618e+00     | 2.6390e+00     \n",
            "350            0.0476         | 2.3021e+00     | 2.9587e+00     | 2.6313e+00     \n",
            "355            0.0307         | 2.2969e+00     | 2.9585e+00     | 2.6448e+00     \n",
            "360            0.0429         | 2.3034e+00     | 2.9601e+00     | 2.6471e+00     \n",
            "365            0.0336         | 2.3040e+00     | 2.9615e+00     | 2.6391e+00     \n",
            "370            0.0272         | 2.3249e+00     | 2.9592e+00     | 2.6479e+00     \n",
            "375            0.0258         | 2.3309e+00     | 2.9636e+00     | 2.6528e+00     \n",
            "380            0.0511         | 2.2298e+00     | 2.9600e+00     | 2.6304e+00     \n",
            "385            0.0309         | 2.3217e+00     | 2.9601e+00     | 2.6514e+00     \n",
            "390            0.0265         | 2.3148e+00     | 2.9585e+00     | 2.6066e+00     \n",
            "395            0.0266         | 2.1620e+00     | 2.9557e+00     | 2.6076e+00     \n",
            "400            0.0254         | 2.2565e+00     | 2.9579e+00     | 2.6306e+00     \n",
            "405            0.0252         | 2.2901e+00     | 2.9599e+00     | 2.6115e+00     \n",
            "410            0.0260         | 2.2606e+00     | 2.9594e+00     | 2.6044e+00     \n",
            "415            0.0589         | 2.3095e+00     | 2.9570e+00     | 2.6153e+00     \n",
            "420            0.0244         | 2.2548e+00     | 2.9588e+00     | 2.6505e+00     \n",
            "425            0.0162         | 2.2814e+00     | 2.9596e+00     | 2.6446e+00     \n",
            "430            0.0335         | 2.2510e+00     | 2.9594e+00     | 2.6117e+00     \n",
            "435            0.0746         | 2.2983e+00     | 2.9573e+00     | 2.6412e+00     \n",
            "440            0.0593         | 2.2543e+00     | 2.9592e+00     | 2.6230e+00     \n",
            "445            0.0292         | 2.2930e+00     | 2.9574e+00     | 2.6263e+00     \n",
            "450            0.0323         | 2.2475e+00     | 2.9576e+00     | 2.6196e+00     \n",
            "455            0.0361         | 2.2432e+00     | 2.9583e+00     | 2.6141e+00     \n",
            "460            0.0422         | 2.2053e+00     | 2.9591e+00     | 2.6185e+00     \n",
            "465            0.0273         | 2.2785e+00     | 2.9592e+00     | 2.5913e+00     \n",
            "470            0.0279         | 2.2791e+00     | 2.9590e+00     | 2.6000e+00     \n",
            "475            0.0921         | 2.2697e+00     | 2.9572e+00     | 2.6158e+00     \n",
            "480            0.0169         | 2.2771e+00     | 2.9554e+00     | 2.6201e+00     \n",
            "485            0.0184         | 2.3200e+00     | 2.9551e+00     | 2.6140e+00     \n",
            "490            0.0259         | 2.3124e+00     | 2.9536e+00     | 2.6195e+00     \n",
            "495            0.0322         | 2.2519e+00     | 2.9581e+00     | 2.6133e+00     \n",
            "Test Loss: 2.8847e+00\n"
          ]
        },
        {
          "output_type": "display_data",
          "data": {
            "text/plain": [
              "<Figure size 432x288 with 1 Axes>"
            ],
            "image/png": "[encoded data removed]"
          },
          "metadata": {
            "needs_background": "light"
          }
        }
      ],
      "source": [
        "\n",
        "\n",
        "'''\n",
        "Training our Network\n",
        "  - Print the table detailing various losses over epochs, and produce a figure \n",
        "    showing the training loss as the epochs go on.\n",
        "\n",
        "'''\n",
        "\n",
        "# training parameters\n",
        "max_epochs = 500\n",
        "batch_size = 500\n",
        "\n",
        "# get printouts\n",
        "headers, printouts_str, printouts_frmt = print_headers()\n",
        "\n",
        "# ---------------------------------------------------------------------------- #\n",
        "# initial evaluation\n",
        "f_train = f(x_train,do_gradient=True,do_hessian = False) #our net for training\n",
        "\n",
        "fy = ((f_train[1])[:,1,:]) #The y data from our net\n",
        "fz = ((f_train[1])[:,2,:]) #the z data from our net\n",
        "\n",
        "\n",
        "\n",
        "# ---------------------------------------------------------------------------- #\n",
        "#now construct the neural nets for validation\n",
        "f_val = f(x_val,do_gradient=True,do_hessian = False) #our net for validation\n",
        "\n",
        "fy = ((f_val[1])[:,1,:]) #The y data from our net\n",
        "fz = ((f_val[1])[:,2,:]) #the z data from our net\n",
        "\n",
        "\n",
        "#For printing: \n",
        "his_iter = (-1, 0.0) + ('|',) + (0,) + ('|',) + (0,) + ('|',) + (0,)\n",
        "\n",
        "# store history\n",
        "his = np.array([x for x in his_iter if not (x == '|')]).reshape(1, -1)\n",
        "\n",
        "# ---------------------------------------------------------------------------- #\n",
        "# main iteration\n",
        "\n",
        "log_interval = 5 # how often printouts appear\n",
        "\n",
        "for epoch in range(max_epochs):\n",
        "    t0 = time.perf_counter()\n",
        "    # training here\n",
        "    f.train()\n",
        "    n = x_train.shape[0]\n",
        "    b = batch_size\n",
        "    n_batch = n // b\n",
        "    loss = torch.zeros(1)\n",
        "    running_loss = 0.0\n",
        "\n",
        "    # shuffle\n",
        "    idx = torch.randperm(n) #identity?\n",
        "\n",
        "    for i in range(n_batch):\n",
        "        idxb = idx[i * b:(i + 1) * b] #random permute based on batch number\n",
        "        xb, yb = x_train[idxb], y_train[idxb] #get that batch data\n",
        "        optimizer.zero_grad()\n",
        "        f_batch= f(xb,do_gradient=True,do_hessian = False) # H, dtH, dyH, dzH\n",
        "        fby = ((f_batch[1])[1:,1,:]) #y from the batch\n",
        "        fbz = ((f_batch[1])[1:,2,:]) #z from the batch\n",
        "        \n",
        "        # unstable?     -> huh?\n",
        "        #do verlet once to the first time step\n",
        "        yTimeOneVal = (xb[1:,0:1] - xb[:-1,0:1])*fbz  + xb[:-1,1:2]\n",
        "        zTimeOneVal = -1 * (xb[1:,0:1] - xb[:-1,0:1])*fby + xb[:-1,2:3]\n",
        "\n",
        "        # stable\n",
        "        loss = mse_loss(torch.cat((xb[1:,0:1] - xb[:-1,0:1], yTimeOneVal,\n",
        "                                   zTimeOneVal),dim=1),yb[1:])\n",
        "\n",
        "        running_loss += b * loss.item()\n",
        "\n",
        "        # update network weights\n",
        "        loss.backward(retain_graph=True)\n",
        "        optimizer.step()\n",
        "\n",
        "    running_loss = (running_loss / n,)\n",
        "    \n",
        "    t1 = time.perf_counter()\n",
        "\n",
        "    # test\n",
        "    fc_train= f(x_train,do_gradient=True,do_hessian = False) #training\n",
        "\n",
        "    yTimeOneVal = (x_train[1:,0:1] - x_train[:-1,0:1])*fc_train[1][1:,2,:].detach()  + x_train[:-1,1:2]\n",
        "    zTimeOneVal = -1 * (x_train[1:,0:1] - x_train[:-1,0:1])*fc_train[1][1:,1,:].detach() + x_train[:-1,2:3]\n",
        "    loss_train = mse_loss(torch.cat((x_train[1:,0:1] - x_train[:-1,0:1], yTimeOneVal,\n",
        "                                   zTimeOneVal),dim=1),y_train[1:])\n",
        "    \n",
        "    fc_val= f(x_val,do_gradient=True,do_hessian = False) #validation\n",
        "\n",
        "    yTimeOneVal = (x_val[1:,0:1] - x_val[:-1,0:1])*fc_val[1][1:,2,:].detach()  + x_val[:-1,1:2]\n",
        "    zTimeOneVal = -1 * (x_val[1:,0:1] - x_val[:-1,0:1])*fc_val[1][1:,1,:].detach() + x_val[:-1,2:3]\n",
        "\n",
        "    loss_val = mse_loss(torch.cat((x_val[1:,0:1] - x_val[:-1,0:1], yTimeOneVal,\n",
        "                                   zTimeOneVal),dim=1),y_val[1:])\n",
        "\n",
        "    t = t1-t0\n",
        "    his_iter = (epoch, t1 - t0) + ('|',) + running_loss + ('|',) + (loss_train.item(),) + ('|',) + (loss_val.item(),)\n",
        "    if epoch % log_interval == 0:\n",
        "      print(printouts_frmt.format(*his_iter))\n",
        "\n",
        "    # store history\n",
        "    idx = [idx for idx, n in enumerate(np.array([x for x in printouts_str if not (x == '|')])) if n == 'loss'][1]\n",
        "    his = np.concatenate((his, np.array([x for x in his_iter if not (x == '|')]).reshape(1, -1)), axis=0)\n",
        "\n",
        "# ---------------------------------------------------------------------------- #\n",
        "# overall performance on test data\n",
        "f_test= f(x_test,do_gradient=True,do_hessian = False)\n",
        "\n",
        "yTimeOneVal = (x_test[1:,0:1] - x_test[:-1,0:1])*f_test[1][1:,2,:].detach()  + x_test[:-1,1:2]\n",
        "zTimeOneVal = -1 * (x_test[1:,0:1] - x_test[:-1,0:1])*f_test[1][1:,1,:].detach() + x_test[:-1,2:3]\n",
        "\n",
        "loss_test = mse_loss(torch.cat((x_test[1:,0:1] - x_test[:-1,0:1], yTimeOneVal,\n",
        "                                   zTimeOneVal),dim=1),y_test[1:])\n",
        "print('Test Loss: %0.4e' % loss.item())\n",
        "\n",
        "\n",
        "\n",
        "# ---------------------------------------------------------------------------- #\n",
        "# convergence plot\n",
        "\n",
        "rc('axes', linewidth=2)\n",
        "fig = plt.figure()\n",
        "linewidth = 3\n",
        "\n",
        "idx = [idx for idx, n in enumerate(np.array([x for x in printouts_str if not (x == '|')])) if n == 'loss'][1]\n",
        "\n",
        "plt.semilogy(his[1::, 0], his[1::, idx], linewidth=linewidth, label='f')\n",
        "\n",
        "#labels and legens\n",
        "plt.xlabel('epoch', fontsize=12)\n",
        "plt.ylabel('loss', fontsize=12)\n",
        "plt.title('Training Loss', fontsize=15) \n",
        "plt.legend()\n",
        "\n",
        "#set label text size\n",
        "ax = gca()\n",
        "for tick in ax.xaxis.get_major_ticks():\n",
        "    tick.label1.set_fontsize(12)\n",
        "for tick in ax.yaxis.get_major_ticks():\n",
        "    tick.label1.set_fontsize(12)\n",
        "\n",
        "\n",
        "plt.show()\n",
        "#fig.savefig('Training Loss.png',dpi=600) #to save the image w/ high dpi"
      ]
    },
    {
      "cell_type": "markdown",
      "metadata": {
        "id": "0gkbDa2BwFrC"
      },
      "source": [
        "Overall Performance"
      ]
    },
    {
      "cell_type": "code",
      "execution_count": null,
      "metadata": {
        "id": "FJB0z1NblCGz",
        "colab": {
          "base_uri": "https://localhost:8080/"
        },
        "outputId": "bcd721eb-6cf2-483a-d88b-f878f00171fb"
      },
      "outputs": [
        {
          "output_type": "stream",
          "name": "stdout",
          "text": [
            "Test Loss: 2.8847e+00\n"
          ]
        }
      ],
      "source": [
        "# overall performance on test data\n",
        "stepSize = 0.05\n",
        "f_test= f(x_test,do_gradient=True,do_hessian = False) \n",
        "\n",
        "fy = ((f_test[1])[1:,1,:])\n",
        "fz = ((f_test[1])[1:,2,:])\n",
        "\n",
        "yTimeOneVal = (x_test[1:,0:1] - x_test[:-1,0:1])*fz  + x_test[:-1,1:2]\n",
        "zTimeOneVal = -1 * (x_test[1:,0:1] - x_test[:-1,0:1])*yTimeOneVal + x_test[:-1,2:3]\n",
        "\n",
        "loss_test = mse_loss(torch.cat((x_test[1:,0:1] - x_test[:-1,0:1], yTimeOneVal,\n",
        "                                   zTimeOneVal),dim=1),y_test[1:])\n",
        "print('Test Loss: %0.4e' % loss.item())"
      ]
    },
    {
      "cell_type": "markdown",
      "metadata": {
        "id": "jwxiMslJwKm9"
      },
      "source": [
        "Continuous Train of Model"
      ]
    },
    {
      "cell_type": "code",
      "execution_count": null,
      "metadata": {
        "id": "V-NYTgG0lR1L"
      },
      "outputs": [],
      "source": [
        "# Go back and solve the ODE, put info in sol array\n",
        "\n",
        "t, y, z = x_train[0:1,0:1], x_train[0:1,1:2], x_train[0:1,2:3] \n",
        "\n",
        "steps = 200\n",
        "h = stepSize\n",
        "sol = torch.zeros(steps,4)\n",
        "\n",
        "for i in range(steps):\n",
        "  f_solve = f(torch.cat((t,y,z),dim=1),do_gradient=True,do_hessian = False) \n",
        "\n",
        "  f1 = f_solve[1][:,1:2,0].detach()\n",
        "  f2 = f_solve[1][:,2:3,0].detach()\n",
        "\n",
        "  y = h*f2  + y\n",
        "  z = -1 * h*f1 + z\n",
        "  t = t + h\n",
        "  sol[i:i+1,:] =  torch.cat((t,y,z,f_solve[0].detach()),dim=1)\n",
        "\n"
      ]
    },
    {
      "cell_type": "markdown",
      "metadata": {
        "id": "BqWrHpPAv0pD"
      },
      "source": [
        "True Y True Z vs Learned Y and Learned Z "
      ]
    },
    {
      "cell_type": "code",
      "execution_count": null,
      "metadata": {
        "id": "ZrFQMweL2MGh",
        "colab": {
          "base_uri": "https://localhost:8080/",
          "height": 303
        },
        "outputId": "cdaceb3c-c9de-440c-b605-0ea74b940b59"
      },
      "outputs": [
        {
          "output_type": "display_data",
          "data": {
            "text/plain": [
              "<Figure size 432x288 with 1 Axes>"
            ],
            "image/png": "[encoded data removed]"
          },
          "metadata": {
            "needs_background": "light"
          }
        }
      ],
      "source": [
        "#Here we are plotting our learned y and z against the true y and z\n",
        "\n",
        "t, y, z = x_train[0:1,0:1], x_train[0:1,1:2], x_train[0:1,2:3] \n",
        "\n",
        "steps = n_samples\n",
        "h = stepSize\n",
        "sol = torch.zeros(steps,4)\n",
        "\n",
        "for i in range(steps):\n",
        "  fb = f(torch.cat((t,y,z),dim=1),do_gradient=True,do_hessian = False) \n",
        "  fb1 = fb[1][:,1:2,0].detach()\n",
        "  fb2 = fb[1][:,2:3,0].detach()\n",
        "  y = h*fb2  + y\n",
        "  z = -1 * h*fb1 + z\n",
        "  t = t + h\n",
        "  sol[i:i+1,:] =  torch.cat((t,y,z,fb[0].detach()),dim=1)\n",
        "\n",
        "\n",
        "rc('axes', linewidth=2)\n",
        "fig = plt.figure()\n",
        "\n",
        "#lines\n",
        "plt.plot(sol[:,0].detach().numpy(),sol[:,1].detach().numpy(), linewidth=3)\n",
        "plt.plot(sol[:,0].detach().numpy(),sol[:,2].detach().numpy(), linewidth=3)\n",
        "plt.plot(x_train[1:steps,0].detach().numpy(),y_train[1:steps:,0].detach().numpy(),\"k--\")\n",
        "plt.plot(x_train[1:steps,0].detach().numpy(),y_train[1:steps:,1].detach().numpy(),\"k-.\")\n",
        "\n",
        "#labels\n",
        "plt.title(\"Learned Position Values\", fontsize=15)\n",
        "plt.ylabel(\"p\", fontsize=12)\n",
        "plt.xlabel(\"Time\", fontsize=12)\n",
        "plt.legend(['learned y','learned z','true y', 'true z'])\n",
        "\n",
        "ax = gca()\n",
        "#set label text size\n",
        "for tick in ax.xaxis.get_major_ticks():\n",
        "    tick.label1.set_fontsize(12)\n",
        "for tick in ax.yaxis.get_major_ticks():\n",
        "    tick.label1.set_fontsize(12)\n",
        "\n",
        "\n",
        "fig.savefig('Learned Position Values.png',dpi=600, bbox_inches = 'tight', pad_inches = 0.05) #to save the image"
      ]
    },
    {
      "cell_type": "markdown",
      "metadata": {
        "id": "umNWQIbHvrfc"
      },
      "source": [
        "Plotting Relationship between p and q"
      ]
    },
    {
      "cell_type": "code",
      "execution_count": null,
      "metadata": {
        "id": "kdYeA4_irEWi",
        "colab": {
          "base_uri": "https://localhost:8080/",
          "height": 303
        },
        "outputId": "9fbe3767-3b9a-4d77-dc19-802929c5a5fa"
      },
      "outputs": [
        {
          "output_type": "display_data",
          "data": {
            "text/plain": [
              "<Figure size 432x288 with 1 Axes>"
            ],
            "image/png": "[encoded data removed]"
          },
          "metadata": {
            "needs_background": "light"
          }
        }
      ],
      "source": [
        "#Here we are plotting the learned p and q\n",
        "\n",
        "rc('axes', linewidth=2)\n",
        "fig = plt.figure()\n",
        "\n",
        "#lines\n",
        "plt.plot(sol[:,1],sol[:,2], linewidth=3)\n",
        "plt.plot(x_train[1:steps,1],y_train[1:steps:,1],\"k-.\")\n",
        "\n",
        "#labels and legend\n",
        "plt.legend(['learned','ground truth'], loc=\"lower right\")\n",
        "plt.title(\"p and q Relationship\", fontsize=15)\n",
        "plt.xlabel(\"p\", fontsize=12)\n",
        "plt.ylabel(\"q\", fontsize=12)\n",
        "\n",
        "\n",
        "ax = gca()\n",
        "for tick in ax.xaxis.get_major_ticks():\n",
        "    tick.label1.set_fontsize(12)\n",
        "for tick in ax.yaxis.get_major_ticks():\n",
        "    tick.label1.set_fontsize(12)\n",
        "\n",
        "\n",
        "plt.show()\n",
        "\n",
        "fig.savefig('p and q.png',dpi=600, bbox_inches = 'tight', pad_inches = 0.05) #to save the image"
      ]
    },
    {
      "cell_type": "code",
      "execution_count": null,
      "metadata": {
        "id": "kX2mrxTZ_bSK",
        "colab": {
          "base_uri": "https://localhost:8080/",
          "height": 358
        },
        "outputId": "4e491bdd-8abc-4956-98d3-d7e34323cf32"
      },
      "outputs": [
        {
          "output_type": "display_data",
          "data": {
            "text/plain": [
              "<Figure size 1296x360 with 3 Axes>"
            ],
            "image/png": "[encoded data removed]"
          },
          "metadata": {
            "needs_background": "light"
          }
        }
      ],
      "source": [
        "'''\n",
        "All Three Figures in One Rectangle\n",
        "  - Edit the sizing for scaling, and add or remove whitspace with pad_inches\n",
        "\n",
        "'''\n",
        "\n",
        "\n",
        "# convergence plot\n",
        "rc('axes', linewidth=2)\n",
        "\n",
        "fig = plt.figure(figsize=(18, 5))\n",
        "\n",
        "plt.subplot(1, 3, 1)\n",
        "linewidth = 3\n",
        "\n",
        "idx = [idx for idx, n in enumerate(np.array([x for x in printouts_str if not (x == '|')])) if n == 'loss'][1]\n",
        "\n",
        "plt.semilogy(his[1::, 0], his[1::, idx], linewidth=linewidth, label='f')\n",
        "\n",
        "plt.xlabel('epoch', fontsize=12)\n",
        "plt.ylabel('loss', fontsize=12)\n",
        "plt.title('Training Loss', fontsize=15) \n",
        "plt.legend()\n",
        "\n",
        "ax = gca()\n",
        "\n",
        "for tick in ax.xaxis.get_major_ticks():\n",
        "    tick.label1.set_fontsize(12)\n",
        "for tick in ax.yaxis.get_major_ticks():\n",
        "    tick.label1.set_fontsize(12)\n",
        "\n",
        "\n",
        "\n",
        "#learned y and z against the true y and z\n",
        "\n",
        "rc('axes', linewidth=2)\n",
        "\n",
        "t, y, z = x_train[0:1,0:1], x_train[0:1,1:2], x_train[0:1,2:3] \n",
        "steps = n_samples\n",
        "h = stepSize\n",
        "sol = torch.zeros(steps,4)\n",
        "\n",
        "for i in range(steps):\n",
        "  fb = f(torch.cat((t,y,z),dim=1),do_gradient=True,do_hessian = False) #again fb?\n",
        "  fb1 = fb[1][:,1:2,0].detach()\n",
        "  fb2 = fb[1][:,2:3,0].detach()\n",
        "  y = h*fb2  + y\n",
        "  z = -1 * h*fb1 + z\n",
        "  t = t + h\n",
        "  sol[i:i+1,:] =  torch.cat((t,y,z,fb[0].detach()),dim=1)\n",
        "\n",
        "plt.subplot(1, 3, 2)\n",
        "\n",
        "plt.plot(sol[:,0].detach().numpy(),sol[:,1].detach().numpy(), linewidth=3)\n",
        "plt.plot(sol[:,0].detach().numpy(),sol[:,2].detach().numpy(), linewidth=3)\n",
        "plt.plot(xall[:,0].detach().numpy(),yall[:,0].detach().numpy(),\"k--\")\n",
        "plt.plot(xall[:,0].detach().numpy(),yall[:,1].detach().numpy(),\"k-.\")\n",
        "\n",
        "plt.title(\"Learned Position Values\", fontsize=15)\n",
        "plt.ylabel(\"p\", fontsize=12)\n",
        "plt.xlabel(\"Time\", fontsize=12)\n",
        "plt.legend(['learned y','learned z','true y', 'true z'])\n",
        "\n",
        "ax = gca()\n",
        "\n",
        "for tick in ax.xaxis.get_major_ticks():\n",
        "    tick.label1.set_fontsize(12)\n",
        "for tick in ax.yaxis.get_major_ticks():\n",
        "    tick.label1.set_fontsize(12)\n",
        "\n",
        "\n",
        "#p and q relationship\n",
        "plt.subplot(1, 3, 3)\n",
        "rc('axes', linewidth=2)\n",
        "\n",
        "plt.plot(sol[:,1],sol[:,2], linewidth=3)\n",
        "plt.plot(x_train[1:steps,1],y_train[1:steps:,1],\"k-.\")\n",
        "\n",
        "plt.legend(['learned','ground truth'], loc=\"lower right\")\n",
        "plt.title(\"p and q Relationship\", fontsize=15)\n",
        "plt.xlabel(\"p\", fontsize=12)\n",
        "plt.ylabel(\"q\", fontsize=12)\n",
        "\n",
        "ax = gca()\n",
        "\n",
        "for tick in ax.xaxis.get_major_ticks():\n",
        "    tick.label1.set_fontsize(12)\n",
        "for tick in ax.yaxis.get_major_ticks():\n",
        "    tick.label1.set_fontsize(12)\n",
        "\n",
        "\n",
        "\n",
        "fig.savefig('findingNemo.png',dpi=600, bbox_inches = 'tight', pad_inches = 0.05) #to save the image"
      ]
    }
  ],
  "metadata": {
    "colab": {
      "provenance": []
    },
    "kernelspec": {
      "display_name": "Python 3",
      "name": "python3"
    },
    "language_info": {
      "name": "python"
    }
  },
  "nbformat": 4,
  "nbformat_minor": 0
}